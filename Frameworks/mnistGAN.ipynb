{
 "cells": [
  {
   "cell_type": "code",
   "execution_count": 3,
   "metadata": {},
   "outputs": [],
   "source": [
    "import tensorflow as tf\n",
    "import numpy as np\n",
    "import matplotlib.pyplot as plt\n",
    "import keras.models as models\n",
    "import keras.layers as layers\n",
    "import keras.optimizers as optimizers\n",
    "from keras.preprocessing.image import ImageDataGenerator"
   ]
  },
  {
   "cell_type": "code",
   "execution_count": 5,
   "metadata": {},
   "outputs": [],
   "source": [
    "# Discriminator\n",
    "\n",
    "# The input to the discriminator is a 28x28x1 image.\n",
    "input = layers.Input(shape=(28, 28, 1))\n",
    "\n",
    "\n",
    "def discriminator_block(x, filters, kernel_size, strides, dropout=False,  batch_norm=True):\n",
    "    x = layers.Conv2D(filters, kernel_size, strides=strides, padding='same')(x)\n",
    "    x = layers.LeakyReLU(alpha=0.3)(x)\n",
    "\n",
    "    # Add a dropout layer if specified.\n",
    "    # This is used to prevent overfitting.\n",
    "    # combining dropout with batch normalization is not recommended.\n",
    "    if dropout and batch_norm:\n",
    "        print('WARNING: Batch normalization and dropout are both enabled.')\n",
    "    if batch_norm:\n",
    "        x = layers.BatchNormalization(momentum=0.8)(x)\n",
    "    if dropout:\n",
    "        x = layers.Dropout(0.25)(x)\n",
    "    return x\n",
    "\n",
    "\n",
    "# Add the discriminator blocks.\n",
    "x = discriminator_block(input, 16, 3, 1, batch_norm=False)\n",
    "x = discriminator_block(x, 32, 3, 2, dropout=True, batch_norm=False)\n",
    "x = discriminator_block(x, 64, 3, 2, dropout=True, batch_norm=False)\n",
    "x = discriminator_block(x, 128, 3, 1)\n",
    "\n",
    "# The output layer.\n",
    "x = layers.Flatten()(x)\n",
    "output = layers.Dense(1, activation='sigmoid')(x)\n",
    "\n",
    "# Create the model.\n",
    "discriminator = models.Model(input, output, name='discriminator')"
   ]
  },
  {
   "cell_type": "code",
   "execution_count": 9,
   "metadata": {},
   "outputs": [],
   "source": [
    "# Generator\n",
    "\n",
    "# The input to the generator is a 100-dimensional vector.\n",
    "input = layers.Input(shape=(100,))\n",
    "\n",
    "def generator_block(x, filters, kernel_size, strides, batch_norm=True):\n",
    "    x = layers.Dense(filters)(x)\n",
    "    x = layers.Conv2DTranspose(filters, kernel_size, strides=strides, padding='same')(x)\n",
    "    if batch_norm:\n",
    "        x = layers.BatchNormalization(momentum=0.8)(x)\n",
    "    x = layers.LeakyReLU(alpha=0.3)(x)\n",
    "    return x\n",
    "\n",
    "x = layers.Dense(128 * 7 * 7)(input)\n",
    "x = layers.BatchNormalization(momentum=0.8)(x)\n",
    "x = layers.LeakyReLU(alpha=0.3)(x)\n",
    "\n",
    "x = layers.Reshape((7, 7, 128))(x)\n",
    "\n",
    "# Add the generator blocks.\n",
    "x = generator_block(x, 128, 3, 1)\n",
    "x = generator_block(x, 64, 3, 2)\n",
    "x = generator_block(x, 32, 3, 2)\n",
    "x = generator_block(x, 16, 3, 1, batch_norm=False)\n",
    "\n",
    "# The output layer.\n",
    "output = layers.Conv2DTranspose(1, (5, 5), strides=1, padding='same', activation='tanh')(x)\n",
    "\n",
    "# Create the model.\n",
    "generator = models.Model(input, output, name='generator')\n"
   ]
  },
  {
   "cell_type": "code",
   "execution_count": 10,
   "metadata": {},
   "outputs": [],
   "source": [
    "# GAN\n",
    "\n",
    "# The input to the GAN is a 100-dimensional vector.\n",
    "input = layers.Input(shape=(100,))\n",
    "# The output of the GAN is the output of the discriminator.\n",
    "output = discriminator(generator(input))\n",
    "# Create the model.\n",
    "gan = models.Model(input, output, name='gan')\n",
    "\n",
    "# Compile the model.\n",
    "gan.compile(loss='binary_crossentropy', optimizer=optimizers.Adam(1e-4))"
   ]
  },
  {
   "cell_type": "code",
   "execution_count": 20,
   "metadata": {},
   "outputs": [
    {
     "ename": "ModuleNotFoundError",
     "evalue": "No module named 'tf'",
     "output_type": "error",
     "traceback": [
      "\u001b[1;31m---------------------------------------------------------------------------\u001b[0m",
      "\u001b[1;31mModuleNotFoundError\u001b[0m                       Traceback (most recent call last)",
      "Cell \u001b[1;32mIn [20], line 3\u001b[0m\n\u001b[0;32m      1\u001b[0m \u001b[38;5;28;01mimport\u001b[39;00m \u001b[38;5;21;01mkeras\u001b[39;00m\u001b[38;5;21;01m.\u001b[39;00m\u001b[38;5;21;01mbackend\u001b[39;00m \u001b[38;5;28;01mas\u001b[39;00m \u001b[38;5;21;01mK\u001b[39;00m\n\u001b[0;32m      2\u001b[0m \u001b[38;5;28;01mimport\u001b[39;00m \u001b[38;5;21;01mnumpy\u001b[39;00m\u001b[38;5;21;01m.\u001b[39;00m\u001b[38;5;21;01mrandom\u001b[39;00m \u001b[38;5;28;01mas\u001b[39;00m \u001b[38;5;21;01mnpr\u001b[39;00m\n\u001b[1;32m----> 3\u001b[0m \u001b[38;5;28;01mimport\u001b[39;00m \u001b[38;5;21;01mtf\u001b[39;00m\u001b[38;5;21;01m.\u001b[39;00m\u001b[38;5;21;01mdata\u001b[39;00m\u001b[38;5;21;01m.\u001b[39;00m\u001b[38;5;21;01mdataset\u001b[39;00m \u001b[38;5;28;01mas\u001b[39;00m \u001b[38;5;21;01mdataset\u001b[39;00m\n",
      "\u001b[1;31mModuleNotFoundError\u001b[0m: No module named 'tf'"
     ]
    }
   ],
   "source": [
    "import keras.backend as K\n",
    "import numpy.random as npr"
   ]
  },
  {
   "cell_type": "code",
   "execution_count": 17,
   "metadata": {},
   "outputs": [
    {
     "name": "stdout",
     "output_type": "stream",
     "text": [
      "(70000, 28, 28)\n"
     ]
    }
   ],
   "source": [
    "# Load the MNIST dataset.\n",
    "(x_train, _),  (x_test, _)= tf.keras.datasets.mnist.load_data()\n",
    "\n",
    "train = np.concatenate((x_train, x_test), axis=0)\n",
    "\n",
    "# Normalize the data to the range [-1, 1].\n",
    "train = (train.astype(np.float32) - 127.5) / 127.5\n",
    "\n",
    "print(train.shape)"
   ]
  },
  {
   "cell_type": "code",
   "execution_count": null,
   "metadata": {},
   "outputs": [],
   "source": [
    "# training\n",
    "\n",
    "batch = 32\n",
    "epochs = 100\n",
    "\n",
    "\n",
    "for epoch in range(epochs):"
   ]
  }
 ],
 "metadata": {
  "kernelspec": {
   "display_name": "Python 3.9.13 ('ML')",
   "language": "python",
   "name": "python3"
  },
  "language_info": {
   "codemirror_mode": {
    "name": "ipython",
    "version": 3
   },
   "file_extension": ".py",
   "mimetype": "text/x-python",
   "name": "python",
   "nbconvert_exporter": "python",
   "pygments_lexer": "ipython3",
   "version": "3.9.13"
  },
  "orig_nbformat": 4,
  "vscode": {
   "interpreter": {
    "hash": "754fec37001176c6d69a56919a46fa327c67b92d85c6fe0d3f639a60e0f662ca"
   }
  }
 },
 "nbformat": 4,
 "nbformat_minor": 2
}
