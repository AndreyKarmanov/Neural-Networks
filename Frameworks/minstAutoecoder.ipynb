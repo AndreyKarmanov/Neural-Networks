{
 "cells": [
  {
   "cell_type": "code",
   "execution_count": 1,
   "metadata": {},
   "outputs": [
    {
     "name": "stderr",
     "output_type": "stream",
     "text": [
      "c:\\Users\\Andrey\\anaconda3\\envs\\ML\\lib\\site-packages\\scipy\\__init__.py:146: UserWarning: A NumPy version >=1.16.5 and <1.23.0 is required for this version of SciPy (detected version 1.23.3\n",
      "  warnings.warn(f\"A NumPy version >={np_minversion} and <{np_maxversion}\"\n"
     ]
    }
   ],
   "source": [
    "import tensorflow as tf\n",
    "import numpy as np\n",
    "import matplotlib.pyplot as plt\n",
    "import keras.models as models\n",
    "import keras.layers as layers\n",
    "from keras.preprocessing.image import ImageDataGenerator\n",
    "from keras.datasets import mnist"
   ]
  },
  {
   "cell_type": "markdown",
   "metadata": {},
   "source": [
    "### Data & Manipulation"
   ]
  },
  {
   "cell_type": "code",
   "execution_count": 2,
   "metadata": {},
   "outputs": [],
   "source": [
    "# load mnist data\n",
    "(x_train, y_train), (x_test, y_test) = mnist.load_data()\n",
    "\n",
    "# normalize data\n",
    "x_train = x_train.astype('float32') / 255.\n",
    "x_test = x_test.astype('float32') / 255."
   ]
  },
  {
   "cell_type": "code",
   "execution_count": 10,
   "metadata": {},
   "outputs": [
    {
     "ename": "NameError",
     "evalue": "name 'datagen' is not defined",
     "output_type": "error",
     "traceback": [
      "\u001b[1;31m---------------------------------------------------------------------------\u001b[0m",
      "\u001b[1;31mNameError\u001b[0m                                 Traceback (most recent call last)",
      "Cell \u001b[1;32mIn [10], line 13\u001b[0m\n\u001b[0;32m     11\u001b[0m \u001b[38;5;66;03m# display reconstruction\u001b[39;00m\n\u001b[0;32m     12\u001b[0m ax \u001b[38;5;241m=\u001b[39m plt\u001b[38;5;241m.\u001b[39msubplot(\u001b[38;5;241m2\u001b[39m, n, i \u001b[38;5;241m+\u001b[39m \u001b[38;5;241m1\u001b[39m \u001b[38;5;241m+\u001b[39m n)\n\u001b[1;32m---> 13\u001b[0m plt\u001b[38;5;241m.\u001b[39mimshow(\u001b[43mdatagen\u001b[49m\u001b[38;5;241m.\u001b[39mrandom_transform(x_test[i]\u001b[38;5;241m.\u001b[39mreshape(\u001b[38;5;241m28\u001b[39m, \u001b[38;5;241m28\u001b[39m, \u001b[38;5;241m1\u001b[39m))\u001b[38;5;241m.\u001b[39mreshape(\u001b[38;5;241m28\u001b[39m, \u001b[38;5;241m28\u001b[39m))\n\u001b[0;32m     14\u001b[0m plt\u001b[38;5;241m.\u001b[39mgray()\n\u001b[0;32m     15\u001b[0m ax\u001b[38;5;241m.\u001b[39mget_xaxis()\u001b[38;5;241m.\u001b[39mset_visible(\u001b[38;5;28;01mFalse\u001b[39;00m)\n",
      "\u001b[1;31mNameError\u001b[0m: name 'datagen' is not defined"
     ]
    },
    {
     "data": {
      "image/png": "[encoded data removed]",
      "text/plain": [
       "<Figure size 2000x400 with 2 Axes>"
      ]
     },
     "metadata": {},
     "output_type": "display_data"
    }
   ],
   "source": [
    "n = 10\n",
    "plt.figure(figsize=(20, 4))\n",
    "for i in range(n):\n",
    "    # display original\n",
    "    ax = plt.subplot(2, n, i + 1)\n",
    "    plt.imshow(x_test[i])\n",
    "    plt.gray()\n",
    "    ax.get_xaxis().set_visible(False)\n",
    "    ax.get_yaxis().set_visible(False)\n",
    "\n",
    "    # display reconstruction\n",
    "    ax = plt.subplot(2, n, i + 1 + n)\n",
    "    # plt.imshow(datagen.random_transform(x_test[i].reshape(28, 28, 1)).reshape(28, 28))\n",
    "    plt.gray()\n",
    "    ax.get_xaxis().set_visible(False)\n",
    "    ax.get_yaxis().set_visible(False)"
   ]
  },
  {
   "cell_type": "markdown",
   "metadata": {},
   "source": [
    "### Model Buildling"
   ]
  },
  {
   "cell_type": "markdown",
   "metadata": {},
   "source": [
    "#### Layers"
   ]
  },
  {
   "cell_type": "code",
   "execution_count": 4,
   "metadata": {},
   "outputs": [
    {
     "name": "stdout",
     "output_type": "stream",
     "text": [
      "Model: \"sequential_1\"\n",
      "_________________________________________________________________\n",
      " Layer (type)                Output Shape              Param #   \n",
      "=================================================================\n",
      " conv2d_2 (Conv2D)           (None, 28, 28, 32)        320       \n",
      "                                                                 \n",
      " max_pooling2d_2 (MaxPooling  (None, 14, 14, 32)       0         \n",
      " 2D)                                                             \n",
      "                                                                 \n",
      " conv2d_3 (Conv2D)           (None, 14, 14, 32)        9248      \n",
      "                                                                 \n",
      " max_pooling2d_3 (MaxPooling  (None, 7, 7, 32)         0         \n",
      " 2D)                                                             \n",
      "                                                                 \n",
      "=================================================================\n",
      "Total params: 9,568\n",
      "Trainable params: 9,568\n",
      "Non-trainable params: 0\n",
      "_________________________________________________________________\n"
     ]
    }
   ],
   "source": [
    "encoder = models.Sequential()\n",
    "encoder.add(layers.Conv2D(32, (3, 3), activation='relu', padding='same', input_shape=(28, 28, 1)))\n",
    "encoder.add(layers.MaxPooling2D((2, 2), padding='same'))\n",
    "encoder.add(layers.Conv2D(32, (3, 3), activation='relu', padding='same'))\n",
    "encoder.add(layers.MaxPooling2D((2, 2), padding='same'))\n",
    "encoder.summary()"
   ]
  },
  {
   "cell_type": "code",
   "execution_count": 5,
   "metadata": {},
   "outputs": [
    {
     "name": "stdout",
     "output_type": "stream",
     "text": [
      "Model: \"sequential_2\"\n",
      "_________________________________________________________________\n",
      " Layer (type)                Output Shape              Param #   \n",
      "=================================================================\n",
      " conv2d_4 (Conv2D)           (None, 7, 7, 32)          9248      \n",
      "                                                                 \n",
      " up_sampling2d (UpSampling2D  (None, 14, 14, 32)       0         \n",
      " )                                                               \n",
      "                                                                 \n",
      " conv2d_5 (Conv2D)           (None, 14, 14, 32)        9248      \n",
      "                                                                 \n",
      " up_sampling2d_1 (UpSampling  (None, 28, 28, 32)       0         \n",
      " 2D)                                                             \n",
      "                                                                 \n",
      " conv2d_6 (Conv2D)           (None, 28, 28, 1)         289       \n",
      "                                                                 \n",
      "=================================================================\n",
      "Total params: 18,785\n",
      "Trainable params: 18,785\n",
      "Non-trainable params: 0\n",
      "_________________________________________________________________\n"
     ]
    }
   ],
   "source": [
    "\n",
    "decoder = models.Sequential()\n",
    "decoder.add(layers.Conv2D(32, (3, 3), activation='relu', padding='same', input_shape=(7, 7, 32)))\n",
    "decoder.add(layers.UpSampling2D((2, 2)))\n",
    "decoder.add(layers.Conv2D(32, (3, 3), activation='relu', padding='same'))\n",
    "decoder.add(layers.UpSampling2D((2, 2)))\n",
    "decoder.add(layers.Conv2D(1, (3, 3), activation='sigmoid', padding='same'))\n",
    "\n",
    "decoder.summary()"
   ]
  },
  {
   "cell_type": "code",
   "execution_count": 7,
   "metadata": {},
   "outputs": [],
   "source": [
    "autoencoder = models.Model(encoder.input, decoder(encoder.output))\n",
    "autoencoder.compile(optimizer='adadelta', loss='binary_crossentropy')"
   ]
  },
  {
   "cell_type": "markdown",
   "metadata": {},
   "source": [
    "### Training\n"
   ]
  },
  {
   "cell_type": "code",
   "execution_count": 8,
   "metadata": {},
   "outputs": [
    {
     "name": "stdout",
     "output_type": "stream",
     "text": [
      "Epoch 1/50\n",
      "468/468 [==============================] - 35s 72ms/step - loss: 0.6896\n",
      "Epoch 2/50\n",
      "468/468 [==============================] - 37s 78ms/step - loss: 0.6805\n",
      "Epoch 3/50\n",
      "468/468 [==============================] - 33s 71ms/step - loss: 0.6655\n",
      "Epoch 4/50\n",
      "468/468 [==============================] - 33s 71ms/step - loss: 0.6378\n",
      "Epoch 5/50\n",
      "468/468 [==============================] - 32s 69ms/step - loss: 0.5943\n",
      "Epoch 6/50\n",
      "468/468 [==============================] - 33s 71ms/step - loss: 0.5546\n",
      "Epoch 7/50\n",
      "468/468 [==============================] - 33s 70ms/step - loss: 0.5273\n",
      "Epoch 8/50\n",
      "468/468 [==============================] - 32s 69ms/step - loss: 0.4998\n",
      "Epoch 9/50\n",
      "468/468 [==============================] - 34s 72ms/step - loss: 0.4668\n",
      "Epoch 10/50\n",
      "468/468 [==============================] - 34s 71ms/step - loss: 0.4263\n",
      "Epoch 11/50\n",
      "468/468 [==============================] - 35s 74ms/step - loss: 0.3776\n",
      "Epoch 12/50\n",
      "468/468 [==============================] - 36s 76ms/step - loss: 0.3249\n",
      "Epoch 13/50\n",
      "468/468 [==============================] - 41s 87ms/step - loss: 0.2763\n",
      "Epoch 14/50\n",
      "468/468 [==============================] - 34s 73ms/step - loss: 0.2390\n",
      "Epoch 15/50\n",
      "468/468 [==============================] - 33s 71ms/step - loss: 0.2135\n",
      "Epoch 16/50\n",
      "468/468 [==============================] - 33s 71ms/step - loss: 0.1971\n",
      "Epoch 17/50\n",
      "468/468 [==============================] - 33s 71ms/step - loss: 0.1862\n",
      "Epoch 18/50\n",
      "468/468 [==============================] - 34s 72ms/step - loss: 0.1783\n",
      "Epoch 19/50\n",
      "468/468 [==============================] - 33s 70ms/step - loss: 0.1724\n",
      "Epoch 20/50\n",
      "468/468 [==============================] - 33s 71ms/step - loss: 0.1675\n",
      "Epoch 21/50\n",
      "468/468 [==============================] - 33s 71ms/step - loss: 0.1635\n",
      "Epoch 22/50\n",
      "468/468 [==============================] - 33s 71ms/step - loss: 0.1601\n",
      "Epoch 23/50\n",
      "468/468 [==============================] - 35s 75ms/step - loss: 0.1571\n",
      "Epoch 24/50\n",
      "468/468 [==============================] - 35s 75ms/step - loss: 0.1546\n",
      "Epoch 25/50\n",
      "468/468 [==============================] - 39s 84ms/step - loss: 0.1524\n",
      "Epoch 26/50\n",
      "468/468 [==============================] - 34s 73ms/step - loss: 0.1504\n",
      "Epoch 27/50\n",
      "468/468 [==============================] - 34s 73ms/step - loss: 0.1486\n",
      "Epoch 28/50\n",
      "468/468 [==============================] - 33s 70ms/step - loss: 0.1469\n",
      "Epoch 29/50\n",
      "468/468 [==============================] - 34s 73ms/step - loss: 0.1453\n",
      "Epoch 30/50\n",
      "468/468 [==============================] - 33s 71ms/step - loss: 0.1438\n",
      "Epoch 31/50\n",
      "468/468 [==============================] - 33s 71ms/step - loss: 0.1424\n",
      "Epoch 32/50\n",
      "468/468 [==============================] - 34s 73ms/step - loss: 0.1410\n",
      "Epoch 33/50\n",
      "468/468 [==============================] - 33s 70ms/step - loss: 0.1397\n",
      "Epoch 34/50\n",
      "468/468 [==============================] - 32s 69ms/step - loss: 0.1385\n",
      "Epoch 35/50\n",
      "468/468 [==============================] - 32s 69ms/step - loss: 0.1372\n",
      "Epoch 36/50\n",
      "468/468 [==============================] - 35s 74ms/step - loss: 0.1360\n",
      "Epoch 37/50\n",
      "468/468 [==============================] - 35s 75ms/step - loss: 0.1349\n",
      "Epoch 38/50\n",
      "468/468 [==============================] - 33s 70ms/step - loss: 0.1337\n",
      "Epoch 39/50\n",
      "468/468 [==============================] - 33s 71ms/step - loss: 0.1326\n",
      "Epoch 40/50\n",
      "468/468 [==============================] - 34s 72ms/step - loss: 0.1315\n",
      "Epoch 41/50\n",
      "468/468 [==============================] - 33s 71ms/step - loss: 0.1304\n",
      "Epoch 42/50\n",
      "468/468 [==============================] - 33s 71ms/step - loss: 0.1293\n",
      "Epoch 43/50\n",
      "468/468 [==============================] - 34s 72ms/step - loss: 0.1283\n",
      "Epoch 44/50\n",
      "468/468 [==============================] - 33s 71ms/step - loss: 0.1273\n",
      "Epoch 45/50\n",
      "468/468 [==============================] - 37s 78ms/step - loss: 0.1263\n",
      "Epoch 46/50\n",
      "468/468 [==============================] - 37s 79ms/step - loss: 0.1254\n",
      "Epoch 47/50\n",
      "468/468 [==============================] - 34s 72ms/step - loss: 0.1245\n",
      "Epoch 48/50\n",
      "468/468 [==============================] - 34s 72ms/step - loss: 0.1236\n",
      "Epoch 49/50\n",
      "468/468 [==============================] - 35s 74ms/step - loss: 0.1227\n",
      "Epoch 50/50\n",
      "468/468 [==============================] - 34s 72ms/step - loss: 0.1219\n"
     ]
    }
   ],
   "source": [
    "with tf.device('/gpu:0'):\n",
    "    autoencoder.fit(x_train, x_train, batch_size=128,\n",
    "                              steps_per_epoch=len(x_train) / 128, epochs=50, verbose=1)"
   ]
  },
  {
   "cell_type": "code",
   "execution_count": 9,
   "metadata": {},
   "outputs": [
    {
     "name": "stdout",
     "output_type": "stream",
     "text": [
      "313/313 [==============================] - 1s 3ms/step\n"
     ]
    },
    {
     "data": {
      "image/png": "[encoded data removed]",
      "text/plain": [
       "<Figure size 2000x400 with 20 Axes>"
      ]
     },
     "metadata": {},
     "output_type": "display_data"
    }
   ],
   "source": [
    "decoded_imgs = autoencoder.predict(x_test)\n",
    "\n",
    "n = 10\n",
    "plt.figure(figsize=(20, 4))\n",
    "for i in range(n):\n",
    "    # display original\n",
    "    ax = plt.subplot(2, n, i + 1)\n",
    "    plt.imshow(x_test[i])\n",
    "#     plt.gray()\n",
    "    ax.get_xaxis().set_visible(False)\n",
    "    ax.get_yaxis().set_visible(False)\n",
    "\n",
    "    # display reconstruction\n",
    "    ax = plt.subplot(2, n, i + 1 + n)\n",
    "    plt.imshow(decoded_imgs[i])\n",
    "    plt.gray()\n",
    "    ax.get_xaxis().set_visible(False)\n",
    "    ax.get_yaxis().set_visible(False)"
   ]
  }
 ],
 "metadata": {
  "kernelspec": {
   "display_name": "Python 3.9.13 ('ML')",
   "language": "python",
   "name": "python3"
  },
  "language_info": {
   "codemirror_mode": {
    "name": "ipython",
    "version": 3
   },
   "file_extension": ".py",
   "mimetype": "text/x-python",
   "name": "python",
   "nbconvert_exporter": "python",
   "pygments_lexer": "ipython3",
   "version": "3.9.13"
  },
  "orig_nbformat": 4,
  "vscode": {
   "interpreter": {
    "hash": "754fec37001176c6d69a56919a46fa327c67b92d85c6fe0d3f639a60e0f662ca"
   }
  }
 },
 "nbformat": 4,
 "nbformat_minor": 2
}
